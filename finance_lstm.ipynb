{
  "cells": [
    {
      "cell_type": "code",
      "source": [
        "pip install -q yfinance"
      ],
      "metadata": {
        "id": "Qq8hdoc3QiRB"
      },
      "execution_count": 1,
      "outputs": []
    },
    {
      "cell_type": "code",
      "execution_count": 33,
      "metadata": {
        "collapsed": true,
        "id": "G7xbBx6sQAgW"
      },
      "outputs": [],
      "source": [
        "import torch\n",
        "import torch.nn as nn\n",
        "import pandas as pd\n",
        "from matplotlib import pyplot as plt\n",
        "import yfinance as yf"
      ]
    },
    {
      "cell_type": "code",
      "source": [
        "device = ('cuda:0' if torch.cuda.is_available() else \"cpu\")\n",
        "device"
      ],
      "metadata": {
        "colab": {
          "base_uri": "https://localhost:8080/",
          "height": 35
        },
        "id": "MNRHDxshQMuB",
        "outputId": "de4dfd64-e23a-4472-d39c-a6fee06ad5e0"
      },
      "execution_count": 34,
      "outputs": [
        {
          "output_type": "execute_result",
          "data": {
            "text/plain": [
              "'cpu'"
            ],
            "application/vnd.google.colaboratory.intrinsic+json": {
              "type": "string"
            }
          },
          "metadata": {},
          "execution_count": 34
        }
      ]
    },
    {
      "cell_type": "markdown",
      "source": [
        "**Define the LSTM model**"
      ],
      "metadata": {
        "collapsed": false,
        "id": "4zh1XhktQAgY"
      }
    },
    {
      "cell_type": "code",
      "execution_count": 35,
      "outputs": [],
      "source": [
        "\n",
        "class LSTMClassifier(nn.Module):\n",
        "    def __init__(self, input_size, hidden_size, output_size):\n",
        "        super().__init__()\n",
        "        self.lstm1 = nn.LSTM(input_size, hidden_size, num_layers= 1,batch_first=True)\n",
        "        self.norm1 = nn.LayerNorm(hidden_size)\n",
        "        self.lstm2 = nn.LSTM(hidden_size, hidden_size, num_layers= 1,batch_first=True)\n",
        "        self.norm2 = nn.LayerNorm(hidden_size)\n",
        "\n",
        "        self.fc1 = nn.Linear(hidden_size, hidden_size)\n",
        "        self.norm3 = nn.LayerNorm(hidden_size)\n",
        "\n",
        "        self.fc2 = nn.Linear(hidden_size, output_size)\n",
        "\n",
        "    def forward(self, x):\n",
        "        lstm_out, _ = self.lstm1(x)\n",
        "        lstm_out = self.norm1(lstm_out)\n",
        "        lstm_out, _ = self.lstm2(lstm_out)\n",
        "        lstm_out = self.norm2(lstm_out)\n",
        "        fc1_out = self.fc1(lstm_out[:, -1, :]).squeeze()\n",
        "        fc1_out = self.norm3(fc1_out)\n",
        "\n",
        "        fc2_out = self.fc2(fc1_out)\n",
        "\n",
        "        return fc2_out\n"
      ],
      "metadata": {
        "id": "x3U-j4czQAgZ"
      }
    },
    {
      "cell_type": "markdown",
      "source": [
        "*Download the data from yahoo finance*"
      ],
      "metadata": {
        "collapsed": false,
        "id": "AVNeebTIQAgZ"
      }
    },
    {
      "cell_type": "code",
      "execution_count": 36,
      "outputs": [],
      "source": [
        "\"\"\"# get amazon data of the past 20 years\n",
        "df = yf.Ticker('AMZN').history(period='15y')\"\"\"\n",
        "# get Vetoquinol data of the past 10 years\n",
        "df = yf.Ticker('GOOG').history(period='20y')\n",
        "company = \"Vetoquinol\"\n",
        "#company = \"Amazon\"\n",
        "# Get ticker name of the company\n",
        "\n",
        "# Get Google data of the past 20 years\n",
        "#df = yf.Ticker('AMZN').history(period='20y')\n",
        "\n",
        "#df = yf.Ticker('GOOGL').history(period='20y')"
      ],
      "metadata": {
        "id": "gUyKwOPTQAgZ"
      }
    },
    {
      "cell_type": "markdown",
      "source": [
        "Remove unused data, and setup :\n",
        "- number_of_days : number of days to use to predict the next day\n",
        "- days_to_predict : number of days to predict\n",
        "- number_of_features : number of features to use from the data\n",
        "- number_of_sequences : number of sequences to create from the data\n",
        "- training length : length of the training data\n",
        "- testing length : length of the testing data"
      ],
      "metadata": {
        "collapsed": false,
        "id": "9qmhCKHtQAgZ"
      }
    },
    {
      "cell_type": "code",
      "execution_count": 37,
      "outputs": [],
      "source": [
        "# prepare data for training : remove Date, Dividend and Stock Splits columns\n",
        "df.reset_index(inplace=True)\n",
        "df = df.drop(['Date','Dividends','Stock Splits'],axis=1)\n",
        "# normalize the data with the biggest value of each column\n",
        "df = df/df.max()\n",
        "# create a de normalize function\n",
        "\n",
        "\n",
        "number_of_days = 40\n",
        "number_of_features = len(df.columns)\n",
        "number_of_sequences = len(df)//number_of_days\n",
        "training_length = int(len(df)*0.7)\n",
        "testing_length = int(len(df)*0.25)"
      ],
      "metadata": {
        "id": "JfpOe0bCQAgZ"
      }
    },
    {
      "cell_type": "markdown",
      "source": [
        "Create data tensor and output tensor :\n",
        "- train_data_tensor : tensor of the training data\n",
        "- train_output_tensor : tensor of the training output\n",
        "- test_data_tensor : tensor of the testing data\n",
        "- test_output_tensor : tensor of the testing output\n",
        "\n",
        "A sliding window is used, the data from day 0 to day number_of_days is used to predict the next day, then the data from day 1 to day number_of_days+1 is used to predict the next day, and so on.\n",
        "\n",
        "The output tensor is the next days_to_predict days after the data tensor.\n",
        "\n",
        "The data tensor is a 3D tensor, the first dimension is the number of sequences, the second dimension is the number of days, and the third dimension is the number of features.\n",
        "\n",
        "The output tensor is a 2D tensor, the first dimension is the number of sequences, and the second dimension is the number of days to predict."
      ],
      "metadata": {
        "collapsed": false,
        "id": "pch4-VgbQAgZ"
      }
    },
    {
      "cell_type": "code",
      "execution_count": 38,
      "outputs": [],
      "source": [
        "train_data_tensor = torch.tensor([df.iloc[i:i + number_of_days].values for i in range(training_length-number_of_days)]).float().to(device)\n",
        "\n",
        "train_output_tensor = torch.tensor([df.iloc[i+number_of_days]['Close'] for i in range(training_length-number_of_days)]).float().to(device)\n",
        "\n",
        "test_data_tensor = torch.tensor([df.iloc[i:i + number_of_days].values for i in range(training_length,training_length+testing_length-number_of_days)]).float().to(device)\n",
        "\n",
        "test_output_tensor = torch.tensor([df.iloc[i+number_of_days]['Close'] for i in range(training_length,training_length+testing_length-number_of_days)]).float().to(device)"
      ],
      "metadata": {
        "id": "wl271Z_XQAga"
      }
    },
    {
      "cell_type": "markdown",
      "source": [
        "Instantiate the model and train it :\n",
        "The model has 3 layers :\n",
        "- LSTM layer with 4 layers\n",
        "- LSTM layer with 4 layers\n",
        "- Linear layer with 75 neurons\n",
        "\n",
        "The ouput of the model is the next days_to_predict days after the data tensor."
      ],
      "metadata": {
        "collapsed": false,
        "id": "JSW1E80AQAga"
      }
    },
    {
      "cell_type": "code",
      "execution_count": 39,
      "outputs": [
        {
          "output_type": "execute_result",
          "data": {
            "text/plain": [
              "LSTMClassifier(\n",
              "  (lstm1): LSTM(5, 30, batch_first=True)\n",
              "  (norm1): LayerNorm((30,), eps=1e-05, elementwise_affine=True)\n",
              "  (lstm2): LSTM(30, 30, batch_first=True)\n",
              "  (norm2): LayerNorm((30,), eps=1e-05, elementwise_affine=True)\n",
              "  (fc1): Linear(in_features=30, out_features=30, bias=True)\n",
              "  (norm3): LayerNorm((30,), eps=1e-05, elementwise_affine=True)\n",
              "  (fc2): Linear(in_features=30, out_features=1, bias=True)\n",
              ")"
            ]
          },
          "metadata": {},
          "execution_count": 39
        }
      ],
      "source": [
        "# create the model\n",
        "model = LSTMClassifier(number_of_features,30,1)\n",
        "model.to(device)"
      ],
      "metadata": {
        "colab": {
          "base_uri": "https://localhost:8080/"
        },
        "id": "J56yvdQcQAga",
        "outputId": "68ac4a00-be0a-4ad2-d257-29998150d943"
      }
    },
    {
      "cell_type": "markdown",
      "source": [
        "Train the model :\n",
        "- loss_function : MSE loss function\n",
        "- optimizer : Adam optimizer\n",
        "\n",
        "Then, the model is ploted with the loss of the whole training.\n"
      ],
      "metadata": {
        "collapsed": false,
        "id": "CBzXAXA6QAga"
      }
    },
    {
      "cell_type": "code",
      "execution_count": 48,
      "outputs": [
        {
          "output_type": "stream",
          "name": "stdout",
          "text": [
            "epoch:   0 loss: 0.05129502\n",
            "epoch:   1 loss: 0.01244226\n",
            "epoch:   2 loss: 0.04008392\n",
            "epoch:   3 loss: 0.02205558\n",
            "epoch:   4 loss: 0.00565594\n",
            "epoch:   5 loss: 0.01163935\n",
            "epoch:   6 loss: 0.02155216\n",
            "epoch:   7 loss: 0.01851629\n",
            "epoch:   8 loss: 0.00902104\n",
            "epoch:   9 loss: 0.00503055\n",
            "epoch:  10 loss: 0.00904486\n",
            "epoch:  11 loss: 0.01368395\n",
            "epoch:  12 loss: 0.01272329\n",
            "epoch:  13 loss: 0.00793095\n",
            "epoch:  14 loss: 0.00484071\n",
            "epoch:  15 loss: 0.00602998\n",
            "epoch:  16 loss: 0.00893644\n",
            "epoch:  17 loss: 0.00961397\n",
            "epoch:  18 loss: 0.00740757\n",
            "epoch:  19 loss: 0.00495094\n",
            "epoch:  20 loss: 0.00467420\n",
            "epoch:  21 loss: 0.00622054\n",
            "epoch:  22 loss: 0.00728367\n",
            "epoch:  23 loss: 0.00652150\n",
            "epoch:  24 loss: 0.00488658\n",
            "epoch:  25 loss: 0.00415262\n",
            "epoch:  26 loss: 0.00479223\n",
            "epoch:  27 loss: 0.00563221\n",
            "epoch:  28 loss: 0.00546396\n",
            "epoch:  29 loss: 0.00446479\n",
            "epoch:  30 loss: 0.00376419\n",
            "epoch:  31 loss: 0.00396045\n",
            "epoch:  32 loss: 0.00447799\n"
          ]
        },
        {
          "output_type": "display_data",
          "data": {
            "text/plain": [
              "<Figure size 432x288 with 1 Axes>"
            ],
            "image/png": "[encoded data removed]"
          },
          "metadata": {
            "needs_background": "light"
          }
        }
      ],
      "source": [
        "# train the model\n",
        "loss_function = nn.MSELoss()\n",
        "optimizer = torch.optim.Adam(model.parameters(),lr=0.0002)\n",
        "epochs = 33\n",
        "compteur = 0\n",
        "loss_array = []\n",
        "# reset the weights of the model\n",
        "for i in range(epochs):\n",
        "    optimizer.zero_grad()\n",
        "    y_pred = model(train_data_tensor).reshape(-1)\n",
        "\n",
        "    single_loss = loss_function(y_pred,train_output_tensor)\n",
        "    loss_array.append(single_loss.item())\n",
        "\n",
        "\n",
        "    single_loss.backward()\n",
        "\n",
        "    optimizer.step()\n",
        "    print(f'epoch: {i:3} loss: {single_loss.item():10.8f}')\n",
        "    # plot the loss of the whole training\n",
        "\n",
        "    if compteur == len(train_data_tensor)-1:\n",
        "        compteur = 0\n",
        "    else:\n",
        "        compteur += 1\n",
        "# plot the loss of the whole training with loss_array\n",
        "#reset plt to plot the loss\n",
        "plt.clf()\n",
        "\n",
        "loss_array_smoothed = pd.Series(loss_array).ewm(span=1000).mean()\n",
        "plt.plot(loss_array_smoothed)\n",
        "plt.show()\n",
        "\n"
      ],
      "metadata": {
        "pycharm": {
          "is_executing": true
        },
        "colab": {
          "base_uri": "https://localhost:8080/",
          "height": 854
        },
        "id": "2QPV4jtpQAga",
        "outputId": "b63e4992-1f3d-4ea9-e769-3cf8e62c4edd"
      }
    },
    {
      "cell_type": "markdown",
      "source": [
        "Test the model on the testing data :\n"
      ],
      "metadata": {
        "collapsed": false,
        "id": "kU79G9-uQAgb"
      }
    },
    {
      "cell_type": "code",
      "execution_count": 50,
      "outputs": [
        {
          "output_type": "display_data",
          "data": {
            "text/plain": [
              "<Figure size 432x288 with 1 Axes>"
            ],
            "image/png": "[encoded data removed]"
          },
          "metadata": {
            "needs_background": "light"
          }
        }
      ],
      "source": [
        "\n",
        "# test the model on the training data\n",
        "predicted_training = []\n",
        "y_values_as_list = []\n",
        "\n",
        "\n",
        "\n",
        "\n",
        "y_pred = model(train_data_tensor)\n",
        "train_results = y_pred.detach()\n",
        "\n",
        "y_pred = y_pred.cpu()\n",
        "# plot with matplotlib expected vs predicted, the x axis is the years\n",
        "\n",
        "#train_data['Close'].plot()\n",
        "# plot the predicted values as point\n",
        "# remove even index\n",
        "# put data every number_of_days, and 0 elsewhere to plot the points\n",
        "#divide by 2 x axis to plot the points\n",
        "plt.plot(y_pred.detach().cpu(),label='predicted')\n",
        "plt.plot(train_output_tensor.cpu(),label='ground truth')\n",
        "\n",
        "plt.legend()\n",
        "\n",
        "\n",
        "\n",
        "\n",
        "plt.show()"
      ],
      "metadata": {
        "pycharm": {
          "is_executing": true
        },
        "colab": {
          "base_uri": "https://localhost:8080/",
          "height": 265
        },
        "id": "X5I1odeZQAgb",
        "outputId": "e763bb8a-fd13-43ef-ef37-9b03bbad3fe1"
      }
    },
    {
      "cell_type": "markdown",
      "source": [
        "Test the model on the testing data :"
      ],
      "metadata": {
        "collapsed": false,
        "id": "7GzJZRlEQAgb"
      }
    },
    {
      "cell_type": "code",
      "execution_count": 51,
      "outputs": [
        {
          "output_type": "display_data",
          "data": {
            "text/plain": [
              "<Figure size 432x288 with 1 Axes>"
            ],
            "image/png": "[encoded data removed]"
          },
          "metadata": {
            "needs_background": "light"
          }
        }
      ],
      "source": [
        "\n",
        "# test the model on the training data\n",
        "\n",
        "\n",
        "y_pred = model(test_data_tensor)\n",
        "\n",
        "\n",
        "test_results = y_pred.detach()\n",
        "\n",
        "plt.plot(y_pred.detach().cpu(),label='predicted')\n",
        "plt.plot(test_output_tensor.cpu(),label='ground truth')\n",
        "\n",
        "plt.legend()\n",
        "\n",
        "\n",
        "\n",
        "plt.show()"
      ],
      "metadata": {
        "pycharm": {
          "is_executing": true
        },
        "colab": {
          "base_uri": "https://localhost:8080/",
          "height": 265
        },
        "id": "w5WGdNGZQAgb",
        "outputId": "5b68a42d-52ad-447a-d3f6-39953ebdc00c"
      }
    },
    {
      "cell_type": "code",
      "source": [],
      "metadata": {
        "id": "gLgiGGTcGpha"
      },
      "execution_count": 42,
      "outputs": []
    }
  ],
  "metadata": {
    "kernelspec": {
      "display_name": "Python 3",
      "language": "python",
      "name": "python3"
    },
    "language_info": {
      "codemirror_mode": {
        "name": "ipython",
        "version": 2
      },
      "file_extension": ".py",
      "mimetype": "text/x-python",
      "name": "python",
      "nbconvert_exporter": "python",
      "pygments_lexer": "ipython2",
      "version": "2.7.6"
    },
    "colab": {
      "provenance": []
    },
    "accelerator": "GPU",
    "gpuClass": "standard"
  },
  "nbformat": 4,
  "nbformat_minor": 0
}